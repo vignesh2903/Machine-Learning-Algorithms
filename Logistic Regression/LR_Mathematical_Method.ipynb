{
 "cells": [
  {
   "cell_type": "code",
   "execution_count": 2,
   "id": "e2ac0c85",
   "metadata": {},
   "outputs": [],
   "source": [
    "# VIGNESH S\n",
    "# Mathematical Method"
   ]
  },
  {
   "cell_type": "code",
   "execution_count": 3,
   "id": "ea33cc5a",
   "metadata": {},
   "outputs": [],
   "source": [
    "import numpy as np\n",
    "import matplotlib.pyplot as plt\n",
    "from sklearn.linear_model import LinearRegression\n",
    "from sklearn.metrics import mean_squared_error, r2_score"
   ]
  },
  {
   "cell_type": "code",
   "execution_count": 4,
   "id": "2c430606",
   "metadata": {},
   "outputs": [],
   "source": [
    "x= np.array([1,2,3,4,5])\n",
    "y= np.array([7,14,15,18,19])\n",
    "n=np.size(x)"
   ]
  },
  {
   "cell_type": "code",
   "execution_count": 5,
   "id": "512d78f4",
   "metadata": {},
   "outputs": [
    {
     "data": {
      "text/plain": [
       "(3.0, 14.6)"
      ]
     },
     "execution_count": 5,
     "metadata": {},
     "output_type": "execute_result"
    }
   ],
   "source": [
    "x_mean = np.mean(x)\n",
    "y_mean = np.mean(y)\n",
    "x_mean, y_mean"
   ]
  },
  {
   "cell_type": "code",
   "execution_count": 6,
   "id": "b02961b1",
   "metadata": {},
   "outputs": [],
   "source": [
    "Sxy = np.sum(x*y) - n*x_mean*y_mean\n",
    "Sxx = np.sum(x*x) - n*x_mean*x_mean"
   ]
  },
  {
   "cell_type": "code",
   "execution_count": 7,
   "id": "f7ad5157",
   "metadata": {},
   "outputs": [
    {
     "name": "stdout",
     "output_type": "stream",
     "text": [
      "slope b1 = 2.8\n",
      "intercept b0 = 6.200000000000001\n"
     ]
    }
   ],
   "source": [
    "b1 = Sxy/Sxx\n",
    "b0 = y_mean - b1*x_mean\n",
    "print(\"slope b1 =\",b1)\n",
    "print(\"intercept b0 =\",b0)"
   ]
  },
  {
   "cell_type": "code",
   "execution_count": 8,
   "id": "dcaa017b",
   "metadata": {},
   "outputs": [
    {
     "data": {
      "text/plain": [
       "Text(0, 0.5, 'Dependent variable y')"
      ]
     },
     "execution_count": 8,
     "metadata": {},
     "output_type": "execute_result"
    },
    {
     "data": {
      "image/png": "[encoded data removed]",
      "text/plain": [
       "<Figure size 432x288 with 1 Axes>"
      ]
     },
     "metadata": {
      "needs_background": "light"
     },
     "output_type": "display_data"
    }
   ],
   "source": [
    "plt.scatter(x,y)\n",
    "plt.xlabel(\"Independent variable x\")\n",
    "plt.ylabel(\"Dependent variable y\")"
   ]
  },
  {
   "cell_type": "code",
   "execution_count": 9,
   "id": "e042260b",
   "metadata": {},
   "outputs": [
    {
     "data": {
      "text/plain": [
       "Text(0, 0.5, 'y')"
      ]
     },
     "execution_count": 9,
     "metadata": {},
     "output_type": "execute_result"
    },
    {
     "data": {
      "image/png": "[encoded data removed]",
      "text/plain": [
       "<Figure size 432x288 with 1 Axes>"
      ]
     },
     "metadata": {
      "needs_background": "light"
     },
     "output_type": "display_data"
    }
   ],
   "source": [
    "y_pred = b0 + b1*x\n",
    "plt.scatter(x,y,color = \"red\")\n",
    "plt.plot(x,y_pred,color = \"green\")\n",
    "plt.xlabel(\"X\")\n",
    "plt.ylabel(\"y\")"
   ]
  },
  {
   "cell_type": "code",
   "execution_count": 10,
   "id": "61c8c673",
   "metadata": {},
   "outputs": [
    {
     "name": "stdout",
     "output_type": "stream",
     "text": [
      "squared error is 10.800000000000004\n",
      "mean squared error is 2.160000000000001\n",
      "root mean square error is 1.4696938456699071\n",
      "r square is 0.8789237668161435\n"
     ]
    }
   ],
   "source": [
    "error = y- y_pred\n",
    "se = np.sum(error**2)\n",
    "print(\"squared error is\",se)\n",
    "\n",
    "mse = se/n\n",
    "print(\"mean squared error is\", mse)\n",
    "\n",
    "rmse = np.sqrt(mse)\n",
    "print(\"root mean square error is\", rmse)\n",
    "\n",
    "SSt = np.sum((y-y_mean)**2)\n",
    "R2 = 1- (se/SSt)\n",
    "print(\"r square is\",R2)"
   ]
  }
 ],
 "metadata": {
  "kernelspec": {
   "display_name": "Python 3.8 (tensorflow)",
   "language": "python",
   "name": "tensorflow"
  },
  "language_info": {
   "codemirror_mode": {
    "name": "ipython",
    "version": 3
   },
   "file_extension": ".py",
   "mimetype": "text/x-python",
   "name": "python",
   "nbconvert_exporter": "python",
   "pygments_lexer": "ipython3",
   "version": "3.8.10"
  }
 },
 "nbformat": 4,
 "nbformat_minor": 5
}
