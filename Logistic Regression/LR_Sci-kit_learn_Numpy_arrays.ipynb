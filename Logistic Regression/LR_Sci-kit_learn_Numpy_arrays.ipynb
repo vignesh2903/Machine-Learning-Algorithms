{
 "cells": [
  {
   "cell_type": "code",
   "execution_count": 1,
   "id": "a1f2d73c",
   "metadata": {},
   "outputs": [],
   "source": [
    "# VIGNESH S - 19BEC1391\n",
    "# Scikit-learn Method"
   ]
  },
  {
   "cell_type": "code",
   "execution_count": 2,
   "id": "91900524",
   "metadata": {},
   "outputs": [],
   "source": [
    "import numpy as np\n",
    "import matplotlib.pyplot as plt\n",
    "from sklearn.linear_model import LinearRegression\n",
    "from sklearn.metrics import mean_squared_error, r2_score"
   ]
  },
  {
   "cell_type": "code",
   "execution_count": 3,
   "id": "7e7568ce",
   "metadata": {},
   "outputs": [],
   "source": [
    "x= np.array([1,2,3,4,5])\n",
    "y= np.array([7,14,15,18,19])\n",
    "n=np.size(x)"
   ]
  },
  {
   "cell_type": "code",
   "execution_count": 4,
   "id": "b2c97201",
   "metadata": {},
   "outputs": [],
   "source": [
    "x = x.reshape(-1,1)\n",
    "regression_model = LinearRegression()"
   ]
  },
  {
   "cell_type": "code",
   "execution_count": 5,
   "id": "ca3ae366",
   "metadata": {},
   "outputs": [],
   "source": [
    "regression_model.fit(x,y)\n",
    "y_prediceted = regression_model.predict(x)"
   ]
  },
  {
   "cell_type": "code",
   "execution_count": 6,
   "id": "fabfb82b",
   "metadata": {},
   "outputs": [],
   "source": [
    "mse = mean_squared_error( y,y_prediceted)\n",
    "rmse = np.sqrt(mean_squared_error(y,y_prediceted))\n",
    "r2 = r2_score(y,y_prediceted)"
   ]
  },
  {
   "cell_type": "code",
   "execution_count": 7,
   "id": "d4cd832a",
   "metadata": {},
   "outputs": [
    {
     "name": "stdout",
     "output_type": "stream",
     "text": [
      "Slope: [2.8]\n",
      "Intercept: 6.1999999999999975\n",
      "MSE: 2.160000000000001\n",
      "Root mean square error: 1.4696938456699071\n",
      "R2 score: 0.8789237668161435\n"
     ]
    }
   ],
   "source": [
    "print(\"Slope:\", regression_model.coef_)\n",
    "print(\"Intercept:\", regression_model.intercept_)\n",
    "print(\"MSE:\", mse)\n",
    "print(\"Root mean square error:\", rmse)\n",
    "print(\"R2 score:\",r2)"
   ]
  },
  {
   "cell_type": "code",
   "execution_count": null,
   "id": "cd527350",
   "metadata": {},
   "outputs": [],
   "source": []
  }
 ],
 "metadata": {
  "kernelspec": {
   "display_name": "Python 3.8 (tensorflow)",
   "language": "python",
   "name": "tensorflow"
  },
  "language_info": {
   "codemirror_mode": {
    "name": "ipython",
    "version": 3
   },
   "file_extension": ".py",
   "mimetype": "text/x-python",
   "name": "python",
   "nbconvert_exporter": "python",
   "pygments_lexer": "ipython3",
   "version": "3.8.10"
  }
 },
 "nbformat": 4,
 "nbformat_minor": 5
}
