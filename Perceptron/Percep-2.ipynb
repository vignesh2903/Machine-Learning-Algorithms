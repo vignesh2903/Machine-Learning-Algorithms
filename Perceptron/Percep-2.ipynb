{
 "cells": [
  {
   "cell_type": "markdown",
   "id": "b0b5ce9b",
   "metadata": {},
   "source": [
    "Vignesh S - 19BEC1391 - TASK 2"
   ]
  },
  {
   "cell_type": "code",
   "execution_count": 2,
   "id": "280c0a7b",
   "metadata": {},
   "outputs": [],
   "source": [
    "from sklearn.neural_network import MLPClassifier\n",
    "X1=[[0.,0.],[0.,1.],[1.,0.],[1.,1.]]\n",
    "y1=[0,1,1,1]\n",
    "clf = MLPClassifier(solver='lbfgs',alpha=1e-5, hidden_layer_sizes=(5,2),random_state=1)\n"
   ]
  },
  {
   "cell_type": "code",
   "execution_count": 4,
   "id": "953c6334",
   "metadata": {},
   "outputs": [
    {
     "name": "stdout",
     "output_type": "stream",
     "text": [
      "MLPClassifier(alpha=1e-05, hidden_layer_sizes=(5, 2), random_state=1,\n",
      "              solver='lbfgs')\n",
      "weight B/w input and 1st hidden layer:\n",
      "[[-0.1397972   0.34983581 -0.84218241 -5.30782901 -0.59512809]\n",
      " [-0.68680764 -0.52912416 -0.2601916  -5.77300536  0.0653965 ]]\n",
      "\n",
      "weight B/w 1st hidden and 2nd layer :\n",
      "[[ 0.28719517 -0.13932075]\n",
      " [-0.32497786 -0.60585818]\n",
      " [-0.50862358  0.50667948]\n",
      " [ 7.92649262 -0.31433366]\n",
      " [ 0.32401557  0.6341217 ]]\n",
      "w0 =  -0.139797195023149\n",
      "w1 =  -0.6868076381725429\n"
     ]
    }
   ],
   "source": [
    "print(clf.fit(X1,y1))\n",
    "print(\"weight B/w input and 1st hidden layer:\")\n",
    "print(clf.coefs_[0])\n",
    "print(\"\\nweight B/w 1st hidden and 2nd layer :\")\n",
    "print(clf.coefs_[1])\n",
    "print(\"w0 = \",clf.coefs_[0][0][0])\n",
    "print(\"w1 = \",clf.coefs_[0][1][0])"
   ]
  },
  {
   "cell_type": "code",
   "execution_count": 5,
   "id": "9ae693e0",
   "metadata": {},
   "outputs": [
    {
     "data": {
      "text/plain": [
       "array([-0.1397972 , -0.68680764])"
      ]
     },
     "execution_count": 5,
     "metadata": {},
     "output_type": "execute_result"
    }
   ],
   "source": [
    "clf.coefs_[0][:,0]"
   ]
  },
  {
   "cell_type": "code",
   "execution_count": 9,
   "id": "eab6c1cf",
   "metadata": {},
   "outputs": [
    {
     "name": "stdout",
     "output_type": "stream",
     "text": [
      "0 0 [-0.1397972  -0.68680764],\n",
      "0 1 [ 0.34983581 -0.52912416],\n",
      "0 2 [-0.84218241 -0.2601916 ],\n",
      "0 3 [-5.30782901 -5.77300536],\n",
      "0 4 [-0.59512809  0.0653965 ],\n",
      "\n",
      "1 0 [ 0.28719517 -0.32497786 -0.50862358  7.92649262  0.32401557],\n",
      "1 1 [-0.13932075 -0.60585818  0.50667948 -0.31433366  0.6341217 ],\n",
      "\n",
      "2 0 [-5.83404052 -0.84969091],\n",
      "\n"
     ]
    }
   ],
   "source": [
    "for i in range(len(clf.coefs_)):\n",
    "    number_neuron_in_layer = clf.coefs_[i].shape[1]\n",
    "    for j in range(number_neuron_in_layer):\n",
    "        weights=clf.coefs_[i][:,j]\n",
    "        print(i,j,weights,end=\",\")\n",
    "        print()\n",
    "    print()"
   ]
  },
  {
   "cell_type": "code",
   "execution_count": 10,
   "id": "34c08a0d",
   "metadata": {},
   "outputs": [
    {
     "name": "stdout",
     "output_type": "stream",
     "text": [
      "[-0.14962269  0.16879757 -0.5472481   5.24282453 -0.87510813]\n"
     ]
    }
   ],
   "source": [
    "print(clf.intercepts_[0])"
   ]
  },
  {
   "cell_type": "code",
   "execution_count": 11,
   "id": "344737c1",
   "metadata": {},
   "outputs": [
    {
     "name": "stdout",
     "output_type": "stream",
     "text": [
      "[-5.1406499  -0.76834882]\n"
     ]
    }
   ],
   "source": [
    "print(clf.intercepts_[1])"
   ]
  },
  {
   "cell_type": "code",
   "execution_count": 12,
   "id": "d931e52d",
   "metadata": {},
   "outputs": [
    {
     "name": "stdout",
     "output_type": "stream",
     "text": [
      "[0 1 1 1 1 1 1 1]\n"
     ]
    }
   ],
   "source": [
    "values=[[0,0],[0,1],[1,0],[0,1],[1,1],[2.,2.],[1.3,1.3],[2,4.8]]\n",
    "result=clf.predict(values)\n",
    "print(result)"
   ]
  },
  {
   "cell_type": "code",
   "execution_count": 13,
   "id": "8e67ba24",
   "metadata": {},
   "outputs": [
    {
     "name": "stdout",
     "output_type": "stream",
     "text": [
      "[[1.00000000e+00 1.32294200e-88]\n",
      " [5.61163068e-05 9.99943884e-01]\n",
      " [5.61163068e-05 9.99943884e-01]\n",
      " [5.61163068e-05 9.99943884e-01]\n",
      " [5.61163068e-05 9.99943884e-01]\n",
      " [5.61163068e-05 9.99943884e-01]\n",
      " [5.61163068e-05 9.99943884e-01]\n",
      " [5.61163068e-05 9.99943884e-01]]\n"
     ]
    }
   ],
   "source": [
    "prob_results=clf.predict_proba([[0,0],[0,1],\n",
    "                                [1,0],[0,1],\n",
    "                                [1,1],[2.,2.],[1.3,1.3],[2,4.8]])\n",
    "print(prob_results)"
   ]
  }
 ],
 "metadata": {
  "kernelspec": {
   "display_name": "Python 3.8 (tensorflow)",
   "language": "python",
   "name": "tensorflow"
  },
  "language_info": {
   "codemirror_mode": {
    "name": "ipython",
    "version": 3
   },
   "file_extension": ".py",
   "mimetype": "text/x-python",
   "name": "python",
   "nbconvert_exporter": "python",
   "pygments_lexer": "ipython3",
   "version": "3.8.10"
  }
 },
 "nbformat": 4,
 "nbformat_minor": 5
}
