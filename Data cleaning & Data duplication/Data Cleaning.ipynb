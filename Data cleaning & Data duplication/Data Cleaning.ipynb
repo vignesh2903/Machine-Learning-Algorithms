{
 "cells": [
  {
   "cell_type": "code",
   "execution_count": 71,
   "id": "00a86bf0",
   "metadata": {},
   "outputs": [],
   "source": [
    "from urllib.request import urlopen\n",
    "from numpy import loadtxt\n",
    "from numpy import unique\n",
    "data = loadtxt(\"oil-spill.csv\",delimiter=\",\")"
   ]
  },
  {
   "cell_type": "code",
   "execution_count": 70,
   "id": "cb9a4bad",
   "metadata": {},
   "outputs": [
    {
     "data": {
      "text/plain": [
       "range(0, 50)"
      ]
     },
     "execution_count": 70,
     "metadata": {},
     "output_type": "execute_result"
    }
   ],
   "source": [
    "data\n",
    "range(data.shape[1])"
   ]
  },
  {
   "cell_type": "code",
   "execution_count": 40,
   "id": "d47facdb",
   "metadata": {},
   "outputs": [
    {
     "data": {
      "text/plain": [
       "array([  1.,   2.,   3.,   4.,   5.,   6.,   7.,   8.,   9.,  10.,  11.,\n",
       "        12.,  13.,  14.,  15.,  16.,  17.,  18.,  19.,  20.,  21.,  22.,\n",
       "        23.,  24.,  25.,  26.,  27.,  28.,  29.,  30.,  31.,  32.,  33.,\n",
       "        34.,  35.,  36.,  37.,  38.,  39.,  40.,  41.,  42.,  43.,  44.,\n",
       "        45.,  46.,  47.,  48.,  49.,  50.,  51.,  52.,  53.,  54.,  55.,\n",
       "        56.,  57.,  58.,  59.,  60.,  61.,  62.,  63.,  64.,  65.,  66.,\n",
       "        67.,  68.,  69.,  70.,  71.,  72.,  73.,  74.,  75.,  76.,  77.,\n",
       "        78.,  79.,  80.,  81.,  82.,  83.,  84.,  85.,  86.,  87.,  88.,\n",
       "        89.,  90.,  91.,  92.,  93.,  94.,  95.,  96.,  97.,  98.,  99.,\n",
       "       100., 101., 102., 103., 104., 105., 106., 107., 108., 109., 110.,\n",
       "       111., 112., 113., 114., 115., 116., 117., 118., 119., 120., 121.,\n",
       "       122., 123., 124., 125., 126., 127., 128., 129., 130., 131., 132.,\n",
       "       133., 134., 135., 136., 137., 138., 139., 140., 141., 142., 143.,\n",
       "       144., 145., 146., 147., 148., 149., 150., 151., 152., 153., 154.,\n",
       "       155., 156., 157., 158., 159., 160., 161., 162., 163., 164., 165.,\n",
       "       166., 167., 168., 169., 170., 171., 172., 173., 174., 175., 176.,\n",
       "       177., 178., 179., 180., 181., 182., 183., 184., 185., 186., 187.,\n",
       "       188., 189., 190., 191., 192., 193., 194., 195., 196., 197., 198.,\n",
       "       199., 200., 201., 202., 203., 204., 206., 207., 208., 215., 216.,\n",
       "       225., 227., 228., 231., 232., 233., 235., 237., 244., 245., 247.,\n",
       "       254., 257., 261., 266., 267., 269., 271., 272., 280., 281., 284.,\n",
       "       310., 317., 321., 328., 332., 339., 352.])"
      ]
     },
     "execution_count": 40,
     "metadata": {},
     "output_type": "execute_result"
    }
   ],
   "source": [
    "unique(data[:,0])"
   ]
  },
  {
   "cell_type": "code",
   "execution_count": 41,
   "id": "0299edd5",
   "metadata": {},
   "outputs": [
    {
     "data": {
      "text/plain": [
       "238"
      ]
     },
     "execution_count": 41,
     "metadata": {},
     "output_type": "execute_result"
    }
   ],
   "source": [
    "len(unique(data[:,0]))"
   ]
  },
  {
   "cell_type": "code",
   "execution_count": 42,
   "id": "e4c5a733",
   "metadata": {},
   "outputs": [
    {
     "name": "stdout",
     "output_type": "stream",
     "text": [
      "0 238\n",
      "1 297\n",
      "2 927\n",
      "3 933\n",
      "4 179\n",
      "5 375\n",
      "6 820\n",
      "7 618\n",
      "8 561\n",
      "9 57\n",
      "10 577\n",
      "11 59\n",
      "12 73\n",
      "13 107\n",
      "14 53\n",
      "15 91\n",
      "16 893\n",
      "17 810\n",
      "18 170\n",
      "19 53\n",
      "20 68\n",
      "21 9\n",
      "22 1\n",
      "23 92\n",
      "24 9\n",
      "25 8\n",
      "26 9\n",
      "27 308\n",
      "28 447\n",
      "29 392\n",
      "30 107\n",
      "31 42\n",
      "32 4\n",
      "33 45\n",
      "34 141\n",
      "35 110\n",
      "36 3\n",
      "37 758\n",
      "38 9\n",
      "39 9\n",
      "40 388\n",
      "41 220\n",
      "42 644\n",
      "43 649\n",
      "44 499\n",
      "45 2\n",
      "46 937\n",
      "47 169\n",
      "48 286\n",
      "49 2\n"
     ]
    }
   ],
   "source": [
    "for i in range(data.shape[1]):\n",
    "    print(i,len(unique(data[:,i])))"
   ]
  },
  {
   "cell_type": "code",
   "execution_count": 43,
   "id": "ef00b9a0",
   "metadata": {},
   "outputs": [
    {
     "name": "stdout",
     "output_type": "stream",
     "text": [
      "0     238\n",
      "1     297\n",
      "2     927\n",
      "3     933\n",
      "4     179\n",
      "5     375\n",
      "6     820\n",
      "7     618\n",
      "8     561\n",
      "9      57\n",
      "10    577\n",
      "11     59\n",
      "12     73\n",
      "13    107\n",
      "14     53\n",
      "15     91\n",
      "16    893\n",
      "17    810\n",
      "18    170\n",
      "19     53\n",
      "20     68\n",
      "21      9\n",
      "22      1\n",
      "23     92\n",
      "24      9\n",
      "25      8\n",
      "26      9\n",
      "27    308\n",
      "28    447\n",
      "29    392\n",
      "30    107\n",
      "31     42\n",
      "32      4\n",
      "33     45\n",
      "34    141\n",
      "35    110\n",
      "36      3\n",
      "37    758\n",
      "38      9\n",
      "39      9\n",
      "40    388\n",
      "41    220\n",
      "42    644\n",
      "43    649\n",
      "44    499\n",
      "45      2\n",
      "46    937\n",
      "47    169\n",
      "48    286\n",
      "49      2\n",
      "dtype: int64\n"
     ]
    }
   ],
   "source": [
    "from pandas import read_csv\n",
    "df=read_csv(\"oil-spill.csv\",header=None)\n",
    "print(df.nunique())"
   ]
  },
  {
   "cell_type": "code",
   "execution_count": 44,
   "id": "5342cdfd",
   "metadata": {},
   "outputs": [
    {
     "name": "stdout",
     "output_type": "stream",
     "text": [
      "(937, 50)\n"
     ]
    }
   ],
   "source": [
    "print(df.shape)"
   ]
  },
  {
   "cell_type": "code",
   "execution_count": 51,
   "id": "3d54ebd6",
   "metadata": {},
   "outputs": [
    {
     "data": {
      "text/plain": [
       "0     238\n",
       "1     297\n",
       "2     927\n",
       "3     933\n",
       "4     179\n",
       "5     375\n",
       "6     820\n",
       "7     618\n",
       "8     561\n",
       "9      57\n",
       "10    577\n",
       "11     59\n",
       "12     73\n",
       "13    107\n",
       "14     53\n",
       "15     91\n",
       "16    893\n",
       "17    810\n",
       "18    170\n",
       "19     53\n",
       "20     68\n",
       "21      9\n",
       "23     92\n",
       "24      9\n",
       "25      8\n",
       "26      9\n",
       "27    308\n",
       "28    447\n",
       "29    392\n",
       "30    107\n",
       "31     42\n",
       "32      4\n",
       "33     45\n",
       "34    141\n",
       "35    110\n",
       "36      3\n",
       "37    758\n",
       "38      9\n",
       "39      9\n",
       "40    388\n",
       "41    220\n",
       "42    644\n",
       "43    649\n",
       "44    499\n",
       "45      2\n",
       "46    937\n",
       "47    169\n",
       "48    286\n",
       "49      2\n",
       "dtype: int64"
      ]
     },
     "execution_count": 51,
     "metadata": {},
     "output_type": "execute_result"
    }
   ],
   "source": [
    "count = df.nunique()\n",
    "count"
   ]
  },
  {
   "cell_type": "code",
   "execution_count": 46,
   "id": "593ae452",
   "metadata": {},
   "outputs": [
    {
     "name": "stdout",
     "output_type": "stream",
     "text": [
      "[22]\n",
      "(937, 49)\n"
     ]
    }
   ],
   "source": [
    "to_del = [i for i, v in enumerate(count) if v == 1]\n",
    "print(to_del)\n",
    "df.drop(to_del, axis=1, inplace=True)\n",
    "print(df.shape)"
   ]
  },
  {
   "cell_type": "code",
   "execution_count": 47,
   "id": "4c2e4b09",
   "metadata": {},
   "outputs": [
    {
     "data": {
      "text/plain": [
       "933"
      ]
     },
     "execution_count": 47,
     "metadata": {},
     "output_type": "execute_result"
    }
   ],
   "source": [
    "data.shape[0]\n",
    "len(unique(data[:,3]))"
   ]
  },
  {
   "cell_type": "code",
   "execution_count": 48,
   "id": "05d0ef87",
   "metadata": {},
   "outputs": [
    {
     "name": "stdout",
     "output_type": "stream",
     "text": [
      "0,238,25.4%\n",
      "1,297,31.7%\n",
      "2,927,98.9%\n",
      "3,933,99.6%\n",
      "4,179,19.1%\n",
      "5,375,40.0%\n",
      "6,820,87.5%\n",
      "7,618,66.0%\n",
      "8,561,59.9%\n",
      "9,57,6.1%\n",
      "10,577,61.6%\n",
      "11,59,6.3%\n",
      "12,73,7.8%\n",
      "13,107,11.4%\n",
      "14,53,5.7%\n",
      "15,91,9.7%\n",
      "16,893,95.3%\n",
      "17,810,86.4%\n",
      "18,170,18.1%\n",
      "19,53,5.7%\n",
      "20,68,7.3%\n",
      "21,9,1.0%\n",
      "22,1,0.1%\n",
      "23,92,9.8%\n",
      "24,9,1.0%\n",
      "25,8,0.9%\n",
      "26,9,1.0%\n",
      "27,308,32.9%\n",
      "28,447,47.7%\n",
      "29,392,41.8%\n",
      "30,107,11.4%\n",
      "31,42,4.5%\n",
      "32,4,0.4%\n",
      "33,45,4.8%\n",
      "34,141,15.0%\n",
      "35,110,11.7%\n",
      "36,3,0.3%\n",
      "37,758,80.9%\n",
      "38,9,1.0%\n",
      "39,9,1.0%\n",
      "40,388,41.4%\n",
      "41,220,23.5%\n",
      "42,644,68.7%\n",
      "43,649,69.3%\n",
      "44,499,53.3%\n",
      "45,2,0.2%\n",
      "46,937,100.0%\n",
      "47,169,18.0%\n",
      "48,286,30.5%\n",
      "49,2,0.2%\n"
     ]
    }
   ],
   "source": [
    "for i in range(data.shape[1]):\n",
    "    num = len(unique(data[:,i]))\n",
    "    percentage = float(num/ data.shape[0]*100)\n",
    "    print('%d,%d,%.1f%%' % (i, num, percentage))"
   ]
  },
  {
   "cell_type": "code",
   "execution_count": 49,
   "id": "33c97094",
   "metadata": {},
   "outputs": [
    {
     "name": "stdout",
     "output_type": "stream",
     "text": [
      "21,9,1.0%\n",
      "22,1,0.1%\n",
      "24,9,1.0%\n",
      "25,8,0.9%\n",
      "26,9,1.0%\n",
      "32,4,0.4%\n",
      "36,3,0.3%\n",
      "38,9,1.0%\n",
      "39,9,1.0%\n",
      "45,2,0.2%\n",
      "49,2,0.2%\n"
     ]
    }
   ],
   "source": [
    "for i in range(data.shape[1]):\n",
    "    num=len(unique(data[:,i]))\n",
    "    percentage = float(num)/ data.shape[0]*100\n",
    "    if percentage <1:\n",
    "        print('%d,%d,%.1f%%' %(i, num, percentage))"
   ]
  },
  {
   "cell_type": "code",
   "execution_count": 52,
   "id": "dc1ce605",
   "metadata": {},
   "outputs": [
    {
     "name": "stdout",
     "output_type": "stream",
     "text": [
      "[21, 23, 24, 25, 31, 35, 37, 38, 44, 48]\n",
      "(937, 39)\n"
     ]
    }
   ],
   "source": [
    "to_del = [i for i, v in enumerate(count) if (float(v)/df.shape[0]*100)<1]\n",
    "print(to_del)\n",
    "df.drop(to_del, axis=1, inplace=True)\n",
    "print(df.shape)"
   ]
  },
  {
   "cell_type": "code",
   "execution_count": 53,
   "id": "38540c89",
   "metadata": {},
   "outputs": [
    {
     "name": "stdout",
     "output_type": "stream",
     "text": [
      "[21, 23, 24, 25, 31, 35, 37, 38, 44, 48]\n",
      "(937, 40)\n"
     ]
    }
   ],
   "source": [
    "from sklearn.feature_selection import VarianceThreshold\n",
    "df= read_csv(\"oil-spill.csv\",header=None)\n",
    "to_del = [i for i, v in enumerate(count) if (float(v)/df.shape[0]*100)<1]\n",
    "print(to_del)\n",
    "df.drop(to_del,axis=1,inplace=True)\n",
    "print(df.shape)"
   ]
  },
  {
   "cell_type": "code",
   "execution_count": 56,
   "id": "5d34023d",
   "metadata": {},
   "outputs": [
    {
     "name": "stdout",
     "output_type": "stream",
     "text": [
      "(937, 49) (937,)\n",
      "(937, 48)\n"
     ]
    }
   ],
   "source": [
    "df= read_csv(\"oil-spill.csv\",header=None)\n",
    "data=df.values\n",
    "X=data[:,:-1]\n",
    "y=data[:,-1]\n",
    "print(X.shape,y.shape)\n",
    "transform = VarianceThreshold()\n",
    "X_sel=transform.fit_transform(X)\n",
    "print(X_sel.shape)"
   ]
  },
  {
   "cell_type": "code",
   "execution_count": 65,
   "id": "3884a63f",
   "metadata": {},
   "outputs": [],
   "source": [
    "from numpy import arange\n",
    "threshold = arange(0.0,0.55,0.05)"
   ]
  },
  {
   "cell_type": "code",
   "execution_count": 67,
   "id": "29cce157",
   "metadata": {},
   "outputs": [
    {
     "name": "stdout",
     "output_type": "stream",
     "text": [
      ">threshold=0.000000,Features=48\n",
      ">threshold=0.050000,Features=37\n",
      ">threshold=0.100000,Features=36\n",
      ">threshold=0.150000,Features=35\n",
      ">threshold=0.200000,Features=35\n",
      ">threshold=0.250000,Features=35\n",
      ">threshold=0.300000,Features=35\n",
      ">threshold=0.350000,Features=35\n",
      ">threshold=0.400000,Features=35\n",
      ">threshold=0.450000,Features=33\n",
      ">threshold=0.500000,Features=31\n"
     ]
    }
   ],
   "source": [
    "results = list()\n",
    "for t in threshold:\n",
    "    transform = VarianceThreshold(threshold=t)\n",
    "    X_sel= transform.fit_transform(X)\n",
    "    n_features = X_sel.shape[1]\n",
    "    print('>threshold=%2f,Features=%d' %(t,n_features))\n",
    "    results.append(n_features)"
   ]
  },
  {
   "cell_type": "code",
   "execution_count": 68,
   "id": "5a58cf5b",
   "metadata": {},
   "outputs": [
    {
     "data": {
      "image/png": "[encoded data removed]",
      "text/plain": [
       "<Figure size 432x288 with 1 Axes>"
      ]
     },
     "metadata": {
      "needs_background": "light"
     },
     "output_type": "display_data"
    }
   ],
   "source": [
    "from matplotlib import pyplot\n",
    "pyplot.plot(threshold, results)\n",
    "pyplot.show()"
   ]
  },
  {
   "cell_type": "code",
   "execution_count": 1,
   "id": "dd4783b8",
   "metadata": {},
   "outputs": [],
   "source": [
    "import pandas as pd"
   ]
  },
  {
   "cell_type": "code",
   "execution_count": 5,
   "id": "285e3481",
   "metadata": {},
   "outputs": [
    {
     "name": "stdout",
     "output_type": "stream",
     "text": [
      "False\n"
     ]
    }
   ],
   "source": [
    "df = pd.read_csv('Iris.csv')\n",
    "dups = df.duplicated()\n",
    "print(dups.any())"
   ]
  },
  {
   "cell_type": "code",
   "execution_count": 7,
   "id": "2eb20d05",
   "metadata": {},
   "outputs": [
    {
     "name": "stdout",
     "output_type": "stream",
     "text": [
      "Empty DataFrame\n",
      "Columns: [Id, SepalLengthCm, SepalWidthCm, PetalLengthCm, PetalWidthCm, Species]\n",
      "Index: []\n",
      "(150, 6)\n",
      "(150, 6)\n"
     ]
    }
   ],
   "source": [
    "print(df[dups])\n",
    "print(df.shape)\n",
    "df.drop_duplicates(inplace=True)\n",
    "print(df.shape)"
   ]
  },
  {
   "cell_type": "code",
   "execution_count": null,
   "id": "83044b64",
   "metadata": {},
   "outputs": [],
   "source": []
  }
 ],
 "metadata": {
  "kernelspec": {
   "display_name": "Python 3.8 (tensorflow)",
   "language": "python",
   "name": "tensorflow"
  },
  "language_info": {
   "codemirror_mode": {
    "name": "ipython",
    "version": 3
   },
   "file_extension": ".py",
   "mimetype": "text/x-python",
   "name": "python",
   "nbconvert_exporter": "python",
   "pygments_lexer": "ipython3",
   "version": "3.8.10"
  }
 },
 "nbformat": 4,
 "nbformat_minor": 5
}
